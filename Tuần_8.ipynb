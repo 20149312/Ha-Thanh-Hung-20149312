{
  "cells": [
    {
      "cell_type": "markdown",
      "metadata": {
        "id": "view-in-github",
        "colab_type": "text"
      },
      "source": [
        "<a href=\"https://colab.research.google.com/github/20149312/Ha-Thanh-Hung-20149312/blob/main/Tu%E1%BA%A7n_8.ipynb\" target=\"_parent\"><img src=\"https://colab.research.google.com/assets/colab-badge.svg\" alt=\"Open In Colab\"/></a>"
      ]
    },
    {
      "cell_type": "code",
      "execution_count": null,
      "metadata": {
        "colab": {
          "background_save": true
        },
        "id": "P7O2M8Itypus",
        "outputId": "a1b4bc25-3fd0-4873-d6c1-bac1918d1ffe"
      },
      "outputs": [
        {
          "name": "stdout",
          "output_type": "stream",
          "text": [
            "Do chinh xac: 1.0\n",
            "[0 1 0 1]\n"
          ]
        }
      ],
      "source": [
        "mport numpy as np\n",
        "from sklearn.linear_model import Perceptron\n",
        "x=[0,0],[1,0],[0,1],[1,1]\n",
        "y=[0,1,1,1]\n",
        "model=Perceptron()\n",
        "model.fit(x,y)\n",
        "print('Do chinh xac', model.score(x,y))\n",
        "x_test=[[0.5,0],[0.9,-0.2],[1,-0.5],[0.2,0.7]]\n",
        "y_test=model.predict(x_test)\n",
        "print(y_test)"
      ]
    },
    {
      "cell_type": "code",
      "source": [
        "import numpy as np\n",
        "from sklearn.linear_model import Perceptron\n",
        "x=[[-0.5,-0.5],[0.5,0.5],[0.3,-0.5],[-0.1,1]]\n",
        "y=[1,1,0,0]\n",
        "model=Perceptron()\n",
        "model.fit(x,y)\n",
        "print('Do chinh xac',model.score(x,y))\n",
        "x_test=[[0,0],[0,1],[1,0],[1,1]]\n",
        "y_test=model.predict(x_test)\n",
        "print(y_test)"
      ],
      "metadata": {
        "colab": {
          "base_uri": "https://localhost:8080/"
        },
        "id": "TyDP5uVVE29O",
        "outputId": "6db55bee-2dae-41ee-90cf-e74ff743f836"
      },
      "execution_count": null,
      "outputs": [
        {
          "output_type": "stream",
          "name": "stdout",
          "text": [
            "Do chinh xac 0.5\n",
            "[0 0 0 0]\n"
          ]
        }
      ]
    },
    {
      "cell_type": "code",
      "source": [
        "import numpy as np\n",
        "import pandas as pd\n",
        "from sklearn.linear_model import Perceptron\n",
        "from sklearn.model_selection import train_test_split\n",
        "data=pd.read_csv('/content/crabs (1).csv')\n",
        "data['sex'].replace('M,1')\n",
        "data['sex'].replace('F,0')\n",
        "x=data.drop(['speies','sex'],axis=True)\n",
        "y=data['sex']\n",
        "model=Perceptron()\n",
        "model.fit(x,y)\n",
        "print('do chinh xac',model.score(x,y))"
      ],
      "metadata": {
        "colab": {
          "base_uri": "https://localhost:8080/"
        },
        "id": "uLDxouO2FMco",
        "outputId": "12c44e41-59f4-4df6-d701-9e4af8dc4370"
      },
      "execution_count": null,
      "outputs": [
        {
          "output_type": "stream",
          "name": "stdout",
          "text": [
            "do chinh xac 0.505\n"
          ]
        }
      ]
    },
    {
      "cell_type": "code",
      "source": [
        "import numpy as np\n",
        "from sklearn.linear_model import Perceptron\n",
        "from sklearn.model_selection import train_test_split\n",
        "import pandas as pd\n",
        "url='/content/crabs (1).csv'\n",
        "data= pd.read_csv(url)\n",
        "#data=data.set_index(data['sp'])\n",
        "data.loc[data['sex']=='M','sex']='1'\n",
        "data.loc[data['sex']=='F','sex']='0'\n",
        "data[(data['speies']=='B')]\n",
        "x=data.drop(['speies','sex'],axis=True)    #bo di loài, giới tính\n",
        "y=data['sex']#giới tính\n",
        "model=Perceptron()\n",
        "model.fit(x,y)\n",
        "print('độ chính xác',model.score(x,y))\n",
        "x_train,x_test,y_train,y_test = train_test_split(x,y,test_size=0.3)\n",
        "x_test = [[5,6,14,13,10,6],[8,12,7,23,30,15],[13,5,22,15,10,13],[19,12,15,20.3,11.5,22.6]] \n",
        "y_test = model.predict(x_test)\n",
        "print(y_test)"
      ],
      "metadata": {
        "colab": {
          "base_uri": "https://localhost:8080/"
        },
        "id": "jHAw-uhaQBrj",
        "outputId": "ac98b549-8435-44a1-e0e5-fd775d34b075"
      },
      "execution_count": null,
      "outputs": [
        {
          "output_type": "stream",
          "name": "stdout",
          "text": [
            "độ chính xác 0.505\n",
            "['0' '1' '0' '0']\n"
          ]
        },
        {
          "output_type": "stream",
          "name": "stderr",
          "text": [
            "/usr/local/lib/python3.7/dist-packages/sklearn/base.py:451: UserWarning: X does not have valid feature names, but Perceptron was fitted with feature names\n",
            "  \"X does not have valid feature names, but\"\n"
          ]
        }
      ]
    },
    {
      "cell_type": "code",
      "source": [
        "import pandas as pd\n",
        "import numpy as np\n",
        "from sklearn.linear_model import Perceptron\n",
        "from sklearn.model_selection import train_test_split\n",
        "from sklearn.datasets import load_iris\n",
        "iris = load_iris()\n",
        "#print (iris)\n",
        "for n, i in enumerate(iris.target):\n",
        "  if i == 2:\n",
        "    iris.target[n] = 1\n",
        "x = iris.data\n",
        "y = iris.target\n",
        "x_train, x_test, y_train, y_test = train_test_split(x,y,test_size = 0.5)\n",
        "model = Perceptron()\n",
        "model.fit(x_train,y_train)\n",
        "print('Độ chính xác',model.score(x_test,y_test))\n",
        "x_test = [[5,4,2,0.5],[4,4,3,0.2]]\n",
        "y_test = model.predict(x_test)\n",
        "print(y_test)"
      ],
      "metadata": {
        "colab": {
          "base_uri": "https://localhost:8080/"
        },
        "id": "O9mvZfkaWj2e",
        "outputId": "f3cc3fa7-7555-4244-e6bd-8f2d88c4e8cd"
      },
      "execution_count": null,
      "outputs": [
        {
          "output_type": "stream",
          "name": "stdout",
          "text": [
            "Độ chính xác 1.0\n",
            "[0 1]\n"
          ]
        }
      ]
    },
    {
      "cell_type": "code",
      "source": [
        "import numpy as np\n",
        "from sklearn.linear_model import Perceptron\n",
        "from sklearn.model_selection import train_test_split\n",
        "import pandas as pd\n",
        "url= '/content/crabs (1).csv'\n",
        "data= pd.read_csv('/content/crabs (1).csv')\n",
        "x = data.drop(['speies','sex','index'],axis = True)\n",
        "y = data['sex'].replace(['M','F'],[0,1])\n",
        "x_train, x_test, y_train, y_test = train_test_split(x,y,test_size = 0.5)\n",
        "model = Perceptron()\n",
        "model.fit(x_train,y_train)\n",
        "print('do chinh xac',model.score(x,y))\n",
        "x_test = [[6.5,4,15,18,9],[16,14,40,45,16]]\n",
        "y_test = model.predict(x_test)\n",
        "print(y_test)"
      ],
      "metadata": {
        "colab": {
          "base_uri": "https://localhost:8080/"
        },
        "id": "UOm0bJh0TftA",
        "outputId": "176309cf-06a7-40b8-ed46-ac2766ab5d71"
      },
      "execution_count": null,
      "outputs": [
        {
          "output_type": "stream",
          "name": "stdout",
          "text": [
            "do chinh xac 0.5\n",
            "[0 0]\n"
          ]
        },
        {
          "output_type": "stream",
          "name": "stderr",
          "text": [
            "/usr/local/lib/python3.7/dist-packages/sklearn/base.py:451: UserWarning: X does not have valid feature names, but Perceptron was fitted with feature names\n",
            "  \"X does not have valid feature names, but\"\n"
          ]
        }
      ]
    }
  ],
  "metadata": {
    "colab": {
      "provenance": [],
      "authorship_tag": "ABX9TyPIZ/5fNCtQXjW61IhvwF8W",
      "include_colab_link": true
    },
    "kernelspec": {
      "display_name": "Python 3",
      "name": "python3"
    },
    "language_info": {
      "name": "python"
    }
  },
  "nbformat": 4,
  "nbformat_minor": 0
}