{
  "nbformat": 4,
  "nbformat_minor": 0,
  "metadata": {
    "colab": {
      "provenance": [],
      "authorship_tag": "ABX9TyO1UkggvgQ6GXafp7Ngir4I",
      "include_colab_link": true
    },
    "kernelspec": {
      "name": "python3",
      "display_name": "Python 3"
    },
    "language_info": {
      "name": "python"
    }
  },
  "cells": [
    {
      "cell_type": "markdown",
      "metadata": {
        "id": "view-in-github",
        "colab_type": "text"
      },
      "source": [
        "<a href=\"https://colab.research.google.com/github/20149312/Ha-Thanh-Hung-20149312/blob/main/Tuan9.ipynb\" target=\"_parent\"><img src=\"https://colab.research.google.com/assets/colab-badge.svg\" alt=\"Open In Colab\"/></a>"
      ]
    },
    {
      "cell_type": "code",
      "execution_count": null,
      "metadata": {
        "colab": {
          "base_uri": "https://localhost:8080/"
        },
        "id": "V6X-oshY2Aey",
        "outputId": "970ba594-b558-4982-aef4-c62fc7fa26bb"
      },
      "outputs": [
        {
          "output_type": "execute_result",
          "data": {
            "text/plain": [
              "(60000, 28, 28)"
            ]
          },
          "metadata": {},
          "execution_count": 62
        }
      ],
      "source": [
        "from keras.datasets import mnist\n",
        "(train_images, train_labels), (test_images,test_labels) = mnist.load_data()\n",
        "train_images.shape\n"
      ]
    },
    {
      "cell_type": "code",
      "source": [
        "train_labels.shape"
      ],
      "metadata": {
        "colab": {
          "base_uri": "https://localhost:8080/"
        },
        "id": "UO58UTGRIM8J",
        "outputId": "1fcb19fd-f3ce-4bcb-fd5f-cd1ec124b31e"
      },
      "execution_count": null,
      "outputs": [
        {
          "output_type": "execute_result",
          "data": {
            "text/plain": [
              "(60000,)"
            ]
          },
          "metadata": {},
          "execution_count": 63
        }
      ]
    },
    {
      "cell_type": "code",
      "source": [
        "test_images.shape"
      ],
      "metadata": {
        "colab": {
          "base_uri": "https://localhost:8080/"
        },
        "id": "ZQv5vkm5IRIw",
        "outputId": "59137e8d-8b89-4d97-d8a5-40d1402770fb"
      },
      "execution_count": null,
      "outputs": [
        {
          "output_type": "execute_result",
          "data": {
            "text/plain": [
              "(10000, 28, 28)"
            ]
          },
          "metadata": {},
          "execution_count": 64
        }
      ]
    },
    {
      "cell_type": "code",
      "source": [
        "test_labels.shape"
      ],
      "metadata": {
        "colab": {
          "base_uri": "https://localhost:8080/"
        },
        "id": "sgCRmfC_IS1-",
        "outputId": "18adb896-6427-49b4-8f5d-035a0ea7f071"
      },
      "execution_count": null,
      "outputs": [
        {
          "output_type": "execute_result",
          "data": {
            "text/plain": [
              "(10000,)"
            ]
          },
          "metadata": {},
          "execution_count": 65
        }
      ]
    },
    {
      "cell_type": "code",
      "source": [
        "from keras.datasets import mnist\n",
        "(train_images, train_labels), (test_images, test_labels) = mnist.load_data()\n",
        "import matplotlib.pyplot as plt\n",
        "plt.imshow(train_images[200])\n",
        "plt.show()\n",
        "print(train_labels[200])\n"
      ],
      "metadata": {
        "colab": {
          "base_uri": "https://localhost:8080/",
          "height": 282
        },
        "id": "z2zg0OMd4Hj_",
        "outputId": "c2851b1c-9b3a-4477-9285-476a6636a5e5"
      },
      "execution_count": null,
      "outputs": [
        {
          "output_type": "display_data",
          "data": {
            "text/plain": [
              "<Figure size 432x288 with 1 Axes>"
            ],
            "image/png": "[encoded data removed]"
          },
          "metadata": {
            "needs_background": "light"
          }
        },
        {
          "output_type": "stream",
          "name": "stdout",
          "text": [
            "1\n"
          ]
        }
      ]
    },
    {
      "cell_type": "code",
      "source": [
        "from keras import models\n",
        "from keras import layers\n",
        "model= models.Sequential()\n",
        "model.add(layers.Dense(512, activation ='relu', input_shape =(28*28,)))\n",
        "model.add(layers.Dense(10, activation ='softmax'))\n",
        "model.summary()\n",
        "train_images = train_images.reshape((60000, 28*28))\n",
        "train_images = train_images.astype('float32')/255\n",
        "test_images = test_images.reshape((10000, 28*28))\n",
        "test_images = test_images.astype('float32')/255\n",
        "train_images.shape\n",
        "test_images.shape\n",
        "from keras.utils.np_utils import to_categorical\n",
        "from keras.utils import to_categorical\n",
        "train_labels = to_categorical(train_labels)\n",
        "test_labels = to_categorical(test_labels)\n",
        "train_labels.shape\n",
        "test_labels.shape\n",
        "model.compile(optimizer='rmsprop')\n",
        "loss = 'categorical_crossontropy'"
      ],
      "metadata": {
        "colab": {
          "base_uri": "https://localhost:8080/"
        },
        "id": "nUvMrwSv5gVs",
        "outputId": "85901f7b-e4f6-446d-deaa-b8d2497a07bb"
      },
      "execution_count": null,
      "outputs": [
        {
          "output_type": "stream",
          "name": "stdout",
          "text": [
            "Model: \"sequential_8\"\n",
            "_________________________________________________________________\n",
            " Layer (type)                Output Shape              Param #   \n",
            "=================================================================\n",
            " dense_10 (Dense)            (None, 512)               401920    \n",
            "                                                                 \n",
            " dense_11 (Dense)            (None, 10)                5130      \n",
            "                                                                 \n",
            "=================================================================\n",
            "Total params: 407,050\n",
            "Trainable params: 407,050\n",
            "Non-trainable params: 0\n",
            "_________________________________________________________________\n"
          ]
        }
      ]
    },
    {
      "cell_type": "code",
      "source": [
        "train_images = train_images.reshape((60000, 28*28))\n",
        "train_images = train_images.astype('float32')/255\n",
        "test_images = test_images.reshape((10000, 28*28))\n",
        "test_images = test_images.astype('float32')/255\n",
        "train_images.shape\n"
      ],
      "metadata": {
        "colab": {
          "base_uri": "https://localhost:8080/"
        },
        "id": "FVJhaYIS9bUu",
        "outputId": "d580cfa8-9aa7-4688-d4a6-275c34427116"
      },
      "execution_count": null,
      "outputs": [
        {
          "output_type": "execute_result",
          "data": {
            "text/plain": [
              "(60000, 784)"
            ]
          },
          "metadata": {},
          "execution_count": 86
        }
      ]
    },
    {
      "cell_type": "code",
      "source": [
        "test_images.shape"
      ],
      "metadata": {
        "colab": {
          "base_uri": "https://localhost:8080/"
        },
        "id": "yj47YQDYLr7V",
        "outputId": "dd7ed13e-d4e6-4060-8d38-4f52f091ebec"
      },
      "execution_count": null,
      "outputs": [
        {
          "output_type": "execute_result",
          "data": {
            "text/plain": [
              "(10000, 784)"
            ]
          },
          "metadata": {},
          "execution_count": 87
        }
      ]
    },
    {
      "cell_type": "code",
      "source": [
        "from keras.utils.np_utils import to_categorical\n",
        "from keras.utils import to_categorical\n",
        "train_labels = to_categorical(train_labels)\n",
        "test_labels = to_categorical(test_labels)\n",
        "train_labels.shape\n"
      ],
      "metadata": {
        "colab": {
          "base_uri": "https://localhost:8080/"
        },
        "id": "_-3NUCBe-dtd",
        "outputId": "050c2090-9e8c-4c97-a7df-9027cec78b0d"
      },
      "execution_count": null,
      "outputs": [
        {
          "output_type": "execute_result",
          "data": {
            "text/plain": [
              "(60000, 10, 2, 2)"
            ]
          },
          "metadata": {},
          "execution_count": 88
        }
      ]
    },
    {
      "cell_type": "code",
      "source": [
        "test_labels.shape"
      ],
      "metadata": {
        "colab": {
          "base_uri": "https://localhost:8080/"
        },
        "id": "TGeo2jePLz8E",
        "outputId": "b1f17162-237a-4b44-a9b6-b5aadde05596"
      },
      "execution_count": null,
      "outputs": [
        {
          "output_type": "execute_result",
          "data": {
            "text/plain": [
              "(10000, 10, 2, 2)"
            ]
          },
          "metadata": {},
          "execution_count": 89
        }
      ]
    },
    {
      "cell_type": "code",
      "source": [
        "from keras.metrics import metrics\n",
        "model.compile(optimizer ='rmsprop',loss='categorical_crossentropy',metrics=['accuracy'])\n",
        "model.fit(train_images,train_labels,epochs=100, batch_size= 128)"
      ],
      "metadata": {
        "colab": {
          "base_uri": "https://localhost:8080/",
          "height": 201
        },
        "id": "BWbwxV4tAdWz",
        "outputId": "d60273f2-c13d-4cc1-f1d9-e0258fb95763"
      },
      "execution_count": 1,
      "outputs": [
        {
          "output_type": "error",
          "ename": "NameError",
          "evalue": "ignored",
          "traceback": [
            "\u001b[0;31m---------------------------------------------------------------------------\u001b[0m",
            "\u001b[0;31mNameError\u001b[0m                                 Traceback (most recent call last)",
            "\u001b[0;32m<ipython-input-1-5c2423509bad>\u001b[0m in \u001b[0;36m<module>\u001b[0;34m\u001b[0m\n\u001b[1;32m      1\u001b[0m \u001b[0;32mfrom\u001b[0m \u001b[0mkeras\u001b[0m\u001b[0;34m.\u001b[0m\u001b[0mmetrics\u001b[0m \u001b[0;32mimport\u001b[0m \u001b[0mmetrics\u001b[0m\u001b[0;34m\u001b[0m\u001b[0;34m\u001b[0m\u001b[0m\n\u001b[0;32m----> 2\u001b[0;31m \u001b[0mmodel\u001b[0m\u001b[0;34m.\u001b[0m\u001b[0mcompile\u001b[0m\u001b[0;34m(\u001b[0m\u001b[0moptimizer\u001b[0m \u001b[0;34m=\u001b[0m\u001b[0;34m'rmsprop'\u001b[0m\u001b[0;34m,\u001b[0m\u001b[0mloss\u001b[0m\u001b[0;34m=\u001b[0m\u001b[0;34m'categorical_crossentropy'\u001b[0m\u001b[0;34m,\u001b[0m\u001b[0mmetrics\u001b[0m\u001b[0;34m=\u001b[0m\u001b[0;34m[\u001b[0m\u001b[0;34m'accuracy'\u001b[0m\u001b[0;34m]\u001b[0m\u001b[0;34m)\u001b[0m\u001b[0;34m\u001b[0m\u001b[0;34m\u001b[0m\u001b[0m\n\u001b[0m\u001b[1;32m      3\u001b[0m \u001b[0mmodel\u001b[0m\u001b[0;34m.\u001b[0m\u001b[0mfit\u001b[0m\u001b[0;34m(\u001b[0m\u001b[0mtrain_images\u001b[0m\u001b[0;34m,\u001b[0m\u001b[0mtrain_labels\u001b[0m\u001b[0;34m,\u001b[0m\u001b[0mepochs\u001b[0m\u001b[0;34m=\u001b[0m\u001b[0;36m100\u001b[0m\u001b[0;34m,\u001b[0m \u001b[0mbatch_size\u001b[0m\u001b[0;34m=\u001b[0m \u001b[0;36m128\u001b[0m\u001b[0;34m)\u001b[0m\u001b[0;34m\u001b[0m\u001b[0;34m\u001b[0m\u001b[0m\n",
            "\u001b[0;31mNameError\u001b[0m: name 'model' is not defined"
          ]
        }
      ]
    },
    {
      "cell_type": "code",
      "source": [
        "test_loss , test_acc = model.evaluate( test_images, test_labels)\n",
        "print(' test acc: ', test_acc)"
      ],
      "metadata": {
        "colab": {
          "base_uri": "https://localhost:8080/",
          "height": 816
        },
        "id": "DBNi2xydF3tu",
        "outputId": "cd309397-0b05-4000-f4e4-39e6b9008ae8"
      },
      "execution_count": null,
      "outputs": [
        {
          "output_type": "error",
          "ename": "ValueError",
          "evalue": "ignored",
          "traceback": [
            "\u001b[0;31m---------------------------------------------------------------------------\u001b[0m",
            "\u001b[0;31mValueError\u001b[0m                                Traceback (most recent call last)",
            "\u001b[0;32m<ipython-input-52-574b544c18f2>\u001b[0m in \u001b[0;36m<module>\u001b[0;34m\u001b[0m\n\u001b[0;32m----> 1\u001b[0;31m \u001b[0mtest_loss\u001b[0m \u001b[0;34m,\u001b[0m \u001b[0mtest_acc\u001b[0m \u001b[0;34m=\u001b[0m \u001b[0mmodel\u001b[0m\u001b[0;34m.\u001b[0m\u001b[0mevaluate\u001b[0m\u001b[0;34m(\u001b[0m \u001b[0mtest_images\u001b[0m\u001b[0;34m,\u001b[0m \u001b[0mtest_labels\u001b[0m\u001b[0;34m)\u001b[0m\u001b[0;34m\u001b[0m\u001b[0;34m\u001b[0m\u001b[0m\n\u001b[0m\u001b[1;32m      2\u001b[0m \u001b[0mprint\u001b[0m\u001b[0;34m(\u001b[0m\u001b[0;34m' test acc: '\u001b[0m\u001b[0;34m,\u001b[0m \u001b[0mtest_acc\u001b[0m\u001b[0;34m)\u001b[0m\u001b[0;34m\u001b[0m\u001b[0;34m\u001b[0m\u001b[0m\n",
            "\u001b[0;32m/usr/local/lib/python3.7/dist-packages/keras/utils/traceback_utils.py\u001b[0m in \u001b[0;36merror_handler\u001b[0;34m(*args, **kwargs)\u001b[0m\n\u001b[1;32m     65\u001b[0m     \u001b[0;32mexcept\u001b[0m \u001b[0mException\u001b[0m \u001b[0;32mas\u001b[0m \u001b[0me\u001b[0m\u001b[0;34m:\u001b[0m  \u001b[0;31m# pylint: disable=broad-except\u001b[0m\u001b[0;34m\u001b[0m\u001b[0;34m\u001b[0m\u001b[0m\n\u001b[1;32m     66\u001b[0m       \u001b[0mfiltered_tb\u001b[0m \u001b[0;34m=\u001b[0m \u001b[0m_process_traceback_frames\u001b[0m\u001b[0;34m(\u001b[0m\u001b[0me\u001b[0m\u001b[0;34m.\u001b[0m\u001b[0m__traceback__\u001b[0m\u001b[0;34m)\u001b[0m\u001b[0;34m\u001b[0m\u001b[0;34m\u001b[0m\u001b[0m\n\u001b[0;32m---> 67\u001b[0;31m       \u001b[0;32mraise\u001b[0m \u001b[0me\u001b[0m\u001b[0;34m.\u001b[0m\u001b[0mwith_traceback\u001b[0m\u001b[0;34m(\u001b[0m\u001b[0mfiltered_tb\u001b[0m\u001b[0;34m)\u001b[0m \u001b[0;32mfrom\u001b[0m \u001b[0;32mNone\u001b[0m\u001b[0;34m\u001b[0m\u001b[0;34m\u001b[0m\u001b[0m\n\u001b[0m\u001b[1;32m     68\u001b[0m     \u001b[0;32mfinally\u001b[0m\u001b[0;34m:\u001b[0m\u001b[0;34m\u001b[0m\u001b[0;34m\u001b[0m\u001b[0m\n\u001b[1;32m     69\u001b[0m       \u001b[0;32mdel\u001b[0m \u001b[0mfiltered_tb\u001b[0m\u001b[0;34m\u001b[0m\u001b[0;34m\u001b[0m\u001b[0m\n",
            "\u001b[0;32m/usr/local/lib/python3.7/dist-packages/keras/engine/training.py\u001b[0m in \u001b[0;36mtf__test_function\u001b[0;34m(iterator)\u001b[0m\n\u001b[1;32m     13\u001b[0m                 \u001b[0;32mtry\u001b[0m\u001b[0;34m:\u001b[0m\u001b[0;34m\u001b[0m\u001b[0;34m\u001b[0m\u001b[0m\n\u001b[1;32m     14\u001b[0m                     \u001b[0mdo_return\u001b[0m \u001b[0;34m=\u001b[0m \u001b[0;32mTrue\u001b[0m\u001b[0;34m\u001b[0m\u001b[0;34m\u001b[0m\u001b[0m\n\u001b[0;32m---> 15\u001b[0;31m                     \u001b[0mretval_\u001b[0m \u001b[0;34m=\u001b[0m \u001b[0mag__\u001b[0m\u001b[0;34m.\u001b[0m\u001b[0mconverted_call\u001b[0m\u001b[0;34m(\u001b[0m\u001b[0mag__\u001b[0m\u001b[0;34m.\u001b[0m\u001b[0mld\u001b[0m\u001b[0;34m(\u001b[0m\u001b[0mstep_function\u001b[0m\u001b[0;34m)\u001b[0m\u001b[0;34m,\u001b[0m \u001b[0;34m(\u001b[0m\u001b[0mag__\u001b[0m\u001b[0;34m.\u001b[0m\u001b[0mld\u001b[0m\u001b[0;34m(\u001b[0m\u001b[0mself\u001b[0m\u001b[0;34m)\u001b[0m\u001b[0;34m,\u001b[0m \u001b[0mag__\u001b[0m\u001b[0;34m.\u001b[0m\u001b[0mld\u001b[0m\u001b[0;34m(\u001b[0m\u001b[0miterator\u001b[0m\u001b[0;34m)\u001b[0m\u001b[0;34m)\u001b[0m\u001b[0;34m,\u001b[0m \u001b[0;32mNone\u001b[0m\u001b[0;34m,\u001b[0m \u001b[0mfscope\u001b[0m\u001b[0;34m)\u001b[0m\u001b[0;34m\u001b[0m\u001b[0;34m\u001b[0m\u001b[0m\n\u001b[0m\u001b[1;32m     16\u001b[0m                 \u001b[0;32mexcept\u001b[0m\u001b[0;34m:\u001b[0m\u001b[0;34m\u001b[0m\u001b[0;34m\u001b[0m\u001b[0m\n\u001b[1;32m     17\u001b[0m                     \u001b[0mdo_return\u001b[0m \u001b[0;34m=\u001b[0m \u001b[0;32mFalse\u001b[0m\u001b[0;34m\u001b[0m\u001b[0;34m\u001b[0m\u001b[0m\n",
            "\u001b[0;31mValueError\u001b[0m: in user code:\n\n    File \"/usr/local/lib/python3.7/dist-packages/keras/engine/training.py\", line 1557, in test_function  *\n        return step_function(self, iterator)\n    File \"/usr/local/lib/python3.7/dist-packages/keras/engine/training.py\", line 1546, in step_function  **\n        outputs = model.distribute_strategy.run(run_step, args=(data,))\n    File \"/usr/local/lib/python3.7/dist-packages/keras/engine/training.py\", line 1535, in run_step  **\n        outputs = model.test_step(data)\n    File \"/usr/local/lib/python3.7/dist-packages/keras/engine/training.py\", line 1501, in test_step\n        self.compute_loss(x, y, y_pred, sample_weight)\n    File \"/usr/local/lib/python3.7/dist-packages/keras/engine/training.py\", line 949, in compute_loss\n        y, y_pred, sample_weight, regularization_losses=self.losses)\n    File \"/usr/local/lib/python3.7/dist-packages/keras/engine/compile_utils.py\", line 201, in __call__\n        loss_value = loss_obj(y_t, y_p, sample_weight=sw)\n    File \"/usr/local/lib/python3.7/dist-packages/keras/losses.py\", line 139, in __call__\n        losses = call_fn(y_true, y_pred)\n    File \"/usr/local/lib/python3.7/dist-packages/keras/losses.py\", line 243, in call  **\n        return ag_fn(y_true, y_pred, **self._fn_kwargs)\n    File \"/usr/local/lib/python3.7/dist-packages/keras/losses.py\", line 1788, in categorical_crossentropy\n        y_true, y_pred, from_logits=from_logits, axis=axis)\n    File \"/usr/local/lib/python3.7/dist-packages/keras/backend.py\", line 5119, in categorical_crossentropy\n        target.shape.assert_is_compatible_with(output.shape)\n\n    ValueError: Shapes (None, 10, 2, 2) and (None, 10) are incompatible\n"
          ]
        }
      ]
    },
    {
      "cell_type": "code",
      "source": [
        "from keras.datasets import fashion_mnist\n",
        "(x_train, y_train), (x_test, y_test) = fashion_mnist.load_data()\n",
        "x_train.shape"
      ],
      "metadata": {
        "colab": {
          "base_uri": "https://localhost:8080/"
        },
        "id": "dug4j_jZGwpg",
        "outputId": "8af63ab6-5833-4bb6-f3e6-9405539abc2f"
      },
      "execution_count": null,
      "outputs": [
        {
          "output_type": "execute_result",
          "data": {
            "text/plain": [
              "(60000, 28, 28)"
            ]
          },
          "metadata": {},
          "execution_count": 58
        }
      ]
    },
    {
      "cell_type": "code",
      "source": [
        "y_train.shape"
      ],
      "metadata": {
        "colab": {
          "base_uri": "https://localhost:8080/"
        },
        "id": "h9BEkLQoHmNa",
        "outputId": "6a04c7f5-9c70-4440-da28-71bef68664a3"
      },
      "execution_count": null,
      "outputs": [
        {
          "output_type": "execute_result",
          "data": {
            "text/plain": [
              "(60000,)"
            ]
          },
          "metadata": {},
          "execution_count": 59
        }
      ]
    },
    {
      "cell_type": "code",
      "source": [
        "x_test.shape"
      ],
      "metadata": {
        "colab": {
          "base_uri": "https://localhost:8080/"
        },
        "id": "BHJUzb8LHwjz",
        "outputId": "c94d430e-e1bc-4bd6-f1e2-26de4f37d9df"
      },
      "execution_count": null,
      "outputs": [
        {
          "output_type": "execute_result",
          "data": {
            "text/plain": [
              "(10000, 28, 28)"
            ]
          },
          "metadata": {},
          "execution_count": 60
        }
      ]
    },
    {
      "cell_type": "code",
      "source": [
        "y_test.shape"
      ],
      "metadata": {
        "colab": {
          "base_uri": "https://localhost:8080/"
        },
        "id": "5VagxXY9H0fV",
        "outputId": "27ed60c0-bb39-492e-8404-911e9b2f761d"
      },
      "execution_count": null,
      "outputs": [
        {
          "output_type": "execute_result",
          "data": {
            "text/plain": [
              "(10000,)"
            ]
          },
          "metadata": {},
          "execution_count": 61
        }
      ]
    },
    {
      "cell_type": "code",
      "source": [
        "class_names=['T-shirt','Trousers','Pullover','Press','Coat','Sandal','Shirt','Sneaker','Bag','Ankle boat']\n"
      ],
      "metadata": {
        "id": "NmeYo7YSIkBL"
      },
      "execution_count": null,
      "outputs": []
    },
    {
      "cell_type": "code",
      "source": [
        "plt.imshow(x_train[5500])\n",
        "plt.show()\n",
        "print(class_names[y_train[1500]])"
      ],
      "metadata": {
        "colab": {
          "base_uri": "https://localhost:8080/",
          "height": 282
        },
        "id": "7gZK9FVrJoIc",
        "outputId": "d9f4c5ef-2dff-4b65-b1ae-a50119a216f1"
      },
      "execution_count": null,
      "outputs": [
        {
          "output_type": "display_data",
          "data": {
            "text/plain": [
              "<Figure size 432x288 with 1 Axes>"
            ],
            "image/png": "[encoded data removed]"
          },
          "metadata": {
            "needs_background": "light"
          }
        },
        {
          "output_type": "stream",
          "name": "stdout",
          "text": [
            "Trousers\n"
          ]
        }
      ]
    },
    {
      "cell_type": "code",
      "source": [
        "from keras import models\n",
        "from keras import layers\n",
        "model= models.Sequential()\n",
        "model.add(layers.Dense(512, activation ='relu', input_shape =(28*28,)))\n",
        "model.add(layers.Dense(10, activation ='softmax'))\n",
        "model.summary()"
      ],
      "metadata": {
        "colab": {
          "base_uri": "https://localhost:8080/"
        },
        "id": "Y_mNR6GXLfOB",
        "outputId": "a44c324d-1cc3-4dcd-e6b3-9d25f4b16e70"
      },
      "execution_count": null,
      "outputs": [
        {
          "output_type": "stream",
          "name": "stdout",
          "text": [
            "Model: \"sequential_9\"\n",
            "_________________________________________________________________\n",
            " Layer (type)                Output Shape              Param #   \n",
            "=================================================================\n",
            " dense_12 (Dense)            (None, 512)               401920    \n",
            "                                                                 \n",
            " dense_13 (Dense)            (None, 10)                5130      \n",
            "                                                                 \n",
            "=================================================================\n",
            "Total params: 407,050\n",
            "Trainable params: 407,050\n",
            "Non-trainable params: 0\n",
            "_________________________________________________________________\n"
          ]
        }
      ]
    },
    {
      "cell_type": "code",
      "source": [
        "x_train = x_train.reshape((60000, 28*28))\n",
        "x_train = x_train.astype('float32')/255\n",
        "x_test = x_test.reshape((10000, 28*28))\n",
        "x_test = x_test.astype('float32')/255\n",
        "x_train.shape"
      ],
      "metadata": {
        "colab": {
          "base_uri": "https://localhost:8080/"
        },
        "id": "2r5leY8nMNdu",
        "outputId": "1c408c09-4ef6-427f-b700-f6af758e3701"
      },
      "execution_count": null,
      "outputs": [
        {
          "output_type": "execute_result",
          "data": {
            "text/plain": [
              "(60000, 784)"
            ]
          },
          "metadata": {},
          "execution_count": 91
        }
      ]
    },
    {
      "cell_type": "code",
      "source": [
        "x_test.shape"
      ],
      "metadata": {
        "colab": {
          "base_uri": "https://localhost:8080/"
        },
        "id": "owuYeya3MujF",
        "outputId": "0cd76303-a7e3-4e9f-d2a7-8f4474ec6669"
      },
      "execution_count": null,
      "outputs": [
        {
          "output_type": "execute_result",
          "data": {
            "text/plain": [
              "(10000, 784)"
            ]
          },
          "metadata": {},
          "execution_count": 92
        }
      ]
    },
    {
      "cell_type": "code",
      "source": [
        "from keras.utils.np_utils import to_categorical\n",
        "from keras.utils import to_categorical\n",
        "y_train = to_categorical(y_train)\n",
        "y_test = to_categorical(y_test)\n",
        "y_train.shape"
      ],
      "metadata": {
        "colab": {
          "base_uri": "https://localhost:8080/"
        },
        "id": "yx4fPEtcMyyu",
        "outputId": "5f51bcc6-c13e-4014-9db5-85487457cf93"
      },
      "execution_count": null,
      "outputs": [
        {
          "output_type": "execute_result",
          "data": {
            "text/plain": [
              "(60000, 10)"
            ]
          },
          "metadata": {},
          "execution_count": 93
        }
      ]
    },
    {
      "cell_type": "code",
      "source": [
        "y_test.shape"
      ],
      "metadata": {
        "colab": {
          "base_uri": "https://localhost:8080/"
        },
        "id": "qkZ6_vg7NLg1",
        "outputId": "f74914ce-12a6-43f6-d094-fecba5f25123"
      },
      "execution_count": null,
      "outputs": [
        {
          "output_type": "execute_result",
          "data": {
            "text/plain": [
              "(10000, 10)"
            ]
          },
          "metadata": {},
          "execution_count": 94
        }
      ]
    },
    {
      "cell_type": "code",
      "source": [
        "from keras.metrics import metrics\n",
        "model.compile(optimizer ='rmsprop',loss='categorical_crossentropy',metrics=['accuracy'])\n",
        "model.fit(x_train,y_train,epochs=100, batch_size= 128)"
      ],
      "metadata": {
        "colab": {
          "base_uri": "https://localhost:8080/"
        },
        "id": "wo1HCtWnNO2p",
        "outputId": "40a0f54a-1a74-4217-bbfc-0c570a61c13b"
      },
      "execution_count": null,
      "outputs": [
        {
          "output_type": "stream",
          "name": "stdout",
          "text": [
            "Epoch 1/100\n",
            "469/469 [==============================] - 3s 6ms/step - loss: 0.5577 - accuracy: 0.8019\n",
            "Epoch 2/100\n",
            "469/469 [==============================] - 3s 5ms/step - loss: 0.3788 - accuracy: 0.8608\n",
            "Epoch 3/100\n",
            "469/469 [==============================] - 3s 5ms/step - loss: 0.3373 - accuracy: 0.8765\n",
            "Epoch 4/100\n",
            "469/469 [==============================] - 3s 6ms/step - loss: 0.3109 - accuracy: 0.8847\n",
            "Epoch 5/100\n",
            "469/469 [==============================] - 3s 6ms/step - loss: 0.2900 - accuracy: 0.8927\n",
            "Epoch 6/100\n",
            "469/469 [==============================] - 3s 6ms/step - loss: 0.2768 - accuracy: 0.8986\n",
            "Epoch 7/100\n",
            "469/469 [==============================] - 3s 6ms/step - loss: 0.2636 - accuracy: 0.9025\n",
            "Epoch 8/100\n",
            "469/469 [==============================] - 3s 6ms/step - loss: 0.2548 - accuracy: 0.9057\n",
            "Epoch 9/100\n",
            "469/469 [==============================] - 3s 6ms/step - loss: 0.2423 - accuracy: 0.9096\n",
            "Epoch 10/100\n",
            "469/469 [==============================] - 3s 7ms/step - loss: 0.2340 - accuracy: 0.9145\n",
            "Epoch 11/100\n",
            "469/469 [==============================] - 3s 6ms/step - loss: 0.2254 - accuracy: 0.9162\n",
            "Epoch 12/100\n",
            "469/469 [==============================] - 3s 6ms/step - loss: 0.2180 - accuracy: 0.9183\n",
            "Epoch 13/100\n",
            "469/469 [==============================] - 3s 6ms/step - loss: 0.2107 - accuracy: 0.9226\n",
            "Epoch 14/100\n",
            "469/469 [==============================] - 3s 5ms/step - loss: 0.2037 - accuracy: 0.9249\n",
            "Epoch 15/100\n",
            "469/469 [==============================] - 3s 6ms/step - loss: 0.1979 - accuracy: 0.9259\n",
            "Epoch 16/100\n",
            "469/469 [==============================] - 3s 6ms/step - loss: 0.1916 - accuracy: 0.9292\n",
            "Epoch 17/100\n",
            "469/469 [==============================] - 3s 7ms/step - loss: 0.1871 - accuracy: 0.9310\n",
            "Epoch 18/100\n",
            "469/469 [==============================] - 3s 6ms/step - loss: 0.1822 - accuracy: 0.9329\n",
            "Epoch 19/100\n",
            "469/469 [==============================] - 3s 6ms/step - loss: 0.1772 - accuracy: 0.9355\n",
            "Epoch 20/100\n",
            "469/469 [==============================] - 3s 6ms/step - loss: 0.1731 - accuracy: 0.9362\n",
            "Epoch 21/100\n",
            "469/469 [==============================] - 3s 6ms/step - loss: 0.1680 - accuracy: 0.9385\n",
            "Epoch 22/100\n",
            "469/469 [==============================] - 3s 6ms/step - loss: 0.1620 - accuracy: 0.9408\n",
            "Epoch 23/100\n",
            "469/469 [==============================] - 3s 6ms/step - loss: 0.1598 - accuracy: 0.9417\n",
            "Epoch 24/100\n",
            "469/469 [==============================] - 3s 6ms/step - loss: 0.1545 - accuracy: 0.9434\n",
            "Epoch 25/100\n",
            "469/469 [==============================] - 3s 6ms/step - loss: 0.1501 - accuracy: 0.9449\n",
            "Epoch 26/100\n",
            "469/469 [==============================] - 3s 6ms/step - loss: 0.1473 - accuracy: 0.9461\n",
            "Epoch 27/100\n",
            "469/469 [==============================] - 3s 6ms/step - loss: 0.1456 - accuracy: 0.9471\n",
            "Epoch 28/100\n",
            "469/469 [==============================] - 3s 6ms/step - loss: 0.1399 - accuracy: 0.9490\n",
            "Epoch 29/100\n",
            "469/469 [==============================] - 3s 6ms/step - loss: 0.1379 - accuracy: 0.9500\n",
            "Epoch 30/100\n",
            "469/469 [==============================] - 3s 6ms/step - loss: 0.1348 - accuracy: 0.9512\n",
            "Epoch 31/100\n",
            "469/469 [==============================] - 3s 5ms/step - loss: 0.1338 - accuracy: 0.9518\n",
            "Epoch 32/100\n",
            "469/469 [==============================] - 3s 6ms/step - loss: 0.1301 - accuracy: 0.9524\n",
            "Epoch 33/100\n",
            "469/469 [==============================] - 3s 6ms/step - loss: 0.1280 - accuracy: 0.9541\n",
            "Epoch 34/100\n",
            "469/469 [==============================] - 3s 6ms/step - loss: 0.1229 - accuracy: 0.9556\n",
            "Epoch 35/100\n",
            "469/469 [==============================] - 3s 6ms/step - loss: 0.1219 - accuracy: 0.9556\n",
            "Epoch 36/100\n",
            "469/469 [==============================] - 3s 6ms/step - loss: 0.1214 - accuracy: 0.9561\n",
            "Epoch 37/100\n",
            "469/469 [==============================] - 3s 6ms/step - loss: 0.1172 - accuracy: 0.9578\n",
            "Epoch 38/100\n",
            "469/469 [==============================] - 3s 6ms/step - loss: 0.1161 - accuracy: 0.9589\n",
            "Epoch 39/100\n",
            "469/469 [==============================] - 3s 6ms/step - loss: 0.1129 - accuracy: 0.9592\n",
            "Epoch 40/100\n",
            "469/469 [==============================] - 3s 6ms/step - loss: 0.1099 - accuracy: 0.9611\n",
            "Epoch 41/100\n",
            "469/469 [==============================] - 3s 6ms/step - loss: 0.1106 - accuracy: 0.9610\n",
            "Epoch 42/100\n",
            "469/469 [==============================] - 2s 5ms/step - loss: 0.1064 - accuracy: 0.9625\n",
            "Epoch 43/100\n",
            "469/469 [==============================] - 3s 6ms/step - loss: 0.1039 - accuracy: 0.9632\n",
            "Epoch 44/100\n",
            "469/469 [==============================] - 3s 6ms/step - loss: 0.1065 - accuracy: 0.9629\n",
            "Epoch 45/100\n",
            "469/469 [==============================] - 3s 6ms/step - loss: 0.1023 - accuracy: 0.9639\n",
            "Epoch 46/100\n",
            "469/469 [==============================] - 3s 5ms/step - loss: 0.1024 - accuracy: 0.9643\n",
            "Epoch 47/100\n",
            "469/469 [==============================] - 3s 6ms/step - loss: 0.0982 - accuracy: 0.9660\n",
            "Epoch 48/100\n",
            "469/469 [==============================] - 3s 7ms/step - loss: 0.0996 - accuracy: 0.9656\n",
            "Epoch 49/100\n",
            "469/469 [==============================] - 3s 7ms/step - loss: 0.0942 - accuracy: 0.9669\n",
            "Epoch 50/100\n",
            "469/469 [==============================] - 3s 6ms/step - loss: 0.0923 - accuracy: 0.9682\n",
            "Epoch 51/100\n",
            "469/469 [==============================] - 3s 6ms/step - loss: 0.0936 - accuracy: 0.9685\n",
            "Epoch 52/100\n",
            "469/469 [==============================] - 4s 9ms/step - loss: 0.0915 - accuracy: 0.9684\n",
            "Epoch 53/100\n",
            "469/469 [==============================] - 3s 7ms/step - loss: 0.0905 - accuracy: 0.9693\n",
            "Epoch 54/100\n",
            "469/469 [==============================] - 4s 8ms/step - loss: 0.0917 - accuracy: 0.9683\n",
            "Epoch 55/100\n",
            "469/469 [==============================] - 4s 9ms/step - loss: 0.0886 - accuracy: 0.9697\n",
            "Epoch 56/100\n",
            "469/469 [==============================] - 3s 6ms/step - loss: 0.0886 - accuracy: 0.9704\n",
            "Epoch 57/100\n",
            "469/469 [==============================] - 3s 6ms/step - loss: 0.0856 - accuracy: 0.9712\n",
            "Epoch 58/100\n",
            "469/469 [==============================] - 3s 6ms/step - loss: 0.0842 - accuracy: 0.9711\n",
            "Epoch 59/100\n",
            "469/469 [==============================] - 3s 6ms/step - loss: 0.0860 - accuracy: 0.9718\n",
            "Epoch 60/100\n",
            "469/469 [==============================] - 3s 6ms/step - loss: 0.0810 - accuracy: 0.9720\n",
            "Epoch 61/100\n",
            "469/469 [==============================] - 3s 6ms/step - loss: 0.0812 - accuracy: 0.9729\n",
            "Epoch 62/100\n",
            "469/469 [==============================] - 4s 8ms/step - loss: 0.0796 - accuracy: 0.9735\n",
            "Epoch 63/100\n",
            "469/469 [==============================] - 3s 6ms/step - loss: 0.0772 - accuracy: 0.9746\n",
            "Epoch 64/100\n",
            "469/469 [==============================] - 3s 6ms/step - loss: 0.0784 - accuracy: 0.9736\n",
            "Epoch 65/100\n",
            "469/469 [==============================] - 4s 8ms/step - loss: 0.0772 - accuracy: 0.9746\n",
            "Epoch 66/100\n",
            "469/469 [==============================] - 3s 6ms/step - loss: 0.0770 - accuracy: 0.9746\n",
            "Epoch 67/100\n",
            "469/469 [==============================] - 3s 6ms/step - loss: 0.0725 - accuracy: 0.9754\n",
            "Epoch 68/100\n",
            "469/469 [==============================] - 3s 6ms/step - loss: 0.0729 - accuracy: 0.9750\n",
            "Epoch 69/100\n",
            "469/469 [==============================] - 3s 6ms/step - loss: 0.0722 - accuracy: 0.9751\n",
            "Epoch 70/100\n",
            "469/469 [==============================] - 3s 6ms/step - loss: 0.0708 - accuracy: 0.9763\n",
            "Epoch 71/100\n",
            "469/469 [==============================] - 3s 7ms/step - loss: 0.0718 - accuracy: 0.9759\n",
            "Epoch 72/100\n",
            "469/469 [==============================] - 3s 6ms/step - loss: 0.0687 - accuracy: 0.9778\n",
            "Epoch 73/100\n",
            "469/469 [==============================] - 3s 6ms/step - loss: 0.0709 - accuracy: 0.9769\n",
            "Epoch 74/100\n",
            "469/469 [==============================] - 3s 6ms/step - loss: 0.0721 - accuracy: 0.9762\n",
            "Epoch 75/100\n",
            "469/469 [==============================] - 3s 6ms/step - loss: 0.0665 - accuracy: 0.9779\n",
            "Epoch 76/100\n",
            "469/469 [==============================] - 3s 6ms/step - loss: 0.0675 - accuracy: 0.9776\n",
            "Epoch 77/100\n",
            "469/469 [==============================] - 3s 6ms/step - loss: 0.0662 - accuracy: 0.9790\n",
            "Epoch 78/100\n",
            "469/469 [==============================] - 3s 6ms/step - loss: 0.0653 - accuracy: 0.9784\n",
            "Epoch 79/100\n",
            "469/469 [==============================] - 3s 6ms/step - loss: 0.0657 - accuracy: 0.9790\n",
            "Epoch 80/100\n",
            "469/469 [==============================] - 3s 6ms/step - loss: 0.0665 - accuracy: 0.9783\n",
            "Epoch 81/100\n",
            "469/469 [==============================] - 3s 6ms/step - loss: 0.0646 - accuracy: 0.9795\n",
            "Epoch 82/100\n",
            "469/469 [==============================] - 3s 6ms/step - loss: 0.0630 - accuracy: 0.9791\n",
            "Epoch 83/100\n",
            "469/469 [==============================] - 3s 6ms/step - loss: 0.0638 - accuracy: 0.9792\n",
            "Epoch 84/100\n",
            "469/469 [==============================] - 3s 6ms/step - loss: 0.0636 - accuracy: 0.9800\n",
            "Epoch 85/100\n",
            "469/469 [==============================] - 3s 6ms/step - loss: 0.0645 - accuracy: 0.9796\n",
            "Epoch 86/100\n",
            "469/469 [==============================] - 3s 6ms/step - loss: 0.0641 - accuracy: 0.9799\n",
            "Epoch 87/100\n",
            "469/469 [==============================] - 3s 6ms/step - loss: 0.0579 - accuracy: 0.9805\n",
            "Epoch 88/100\n",
            "469/469 [==============================] - 3s 6ms/step - loss: 0.0589 - accuracy: 0.9812\n",
            "Epoch 89/100\n",
            "469/469 [==============================] - 3s 6ms/step - loss: 0.0620 - accuracy: 0.9807\n",
            "Epoch 90/100\n",
            "469/469 [==============================] - 3s 6ms/step - loss: 0.0582 - accuracy: 0.9817\n",
            "Epoch 91/100\n",
            "469/469 [==============================] - 3s 6ms/step - loss: 0.0607 - accuracy: 0.9807\n",
            "Epoch 92/100\n",
            "469/469 [==============================] - 3s 6ms/step - loss: 0.0586 - accuracy: 0.9812\n",
            "Epoch 93/100\n",
            "469/469 [==============================] - 3s 6ms/step - loss: 0.0580 - accuracy: 0.9821\n",
            "Epoch 94/100\n",
            "469/469 [==============================] - 3s 6ms/step - loss: 0.0547 - accuracy: 0.9830\n",
            "Epoch 95/100\n",
            "469/469 [==============================] - 3s 6ms/step - loss: 0.0569 - accuracy: 0.9826\n",
            "Epoch 96/100\n",
            "469/469 [==============================] - 3s 6ms/step - loss: 0.0565 - accuracy: 0.9829\n",
            "Epoch 97/100\n",
            "469/469 [==============================] - 3s 6ms/step - loss: 0.0554 - accuracy: 0.9832\n",
            "Epoch 98/100\n",
            "469/469 [==============================] - 3s 5ms/step - loss: 0.0558 - accuracy: 0.9826\n",
            "Epoch 99/100\n",
            "469/469 [==============================] - 3s 6ms/step - loss: 0.0558 - accuracy: 0.9829\n",
            "Epoch 100/100\n",
            "469/469 [==============================] - 3s 6ms/step - loss: 0.0555 - accuracy: 0.9833\n"
          ]
        },
        {
          "output_type": "execute_result",
          "data": {
            "text/plain": [
              "<keras.callbacks.History at 0x7f154614db10>"
            ]
          },
          "metadata": {},
          "execution_count": 97
        }
      ]
    },
    {
      "cell_type": "code",
      "source": [
        "test_loss , test_acc = model.evaluate( x_test, y_test)\n",
        "print(' test acc: ', test_acc)"
      ],
      "metadata": {
        "colab": {
          "base_uri": "https://localhost:8080/"
        },
        "id": "HfSZ_PfiORKs",
        "outputId": "c1bd407d-eecb-4048-8863-0609385d0389"
      },
      "execution_count": null,
      "outputs": [
        {
          "output_type": "stream",
          "name": "stdout",
          "text": [
            "313/313 [==============================] - 1s 1ms/step - loss: 1.0431 - accuracy: 0.8922\n",
            " test acc:  0.8921999931335449\n"
          ]
        }
      ]
    },
    {
      "cell_type": "code",
      "source": [
        "import numpy as np\n",
        "from tensorflow.keras.utils import load_img\n",
        "url = '/content/giay thiet.png'\n",
        "img= load_img(url, target_size=(28,28))\n",
        "plt.imshow(img)"
      ],
      "metadata": {
        "colab": {
          "base_uri": "https://localhost:8080/",
          "height": 282
        },
        "id": "q51zSA80Po6d",
        "outputId": "4de2c9ef-b156-4907-d64e-6cbba2e7b7ab"
      },
      "execution_count": null,
      "outputs": [
        {
          "output_type": "execute_result",
          "data": {
            "text/plain": [
              "<matplotlib.image.AxesImage at 0x7f1545d46a10>"
            ]
          },
          "metadata": {},
          "execution_count": 107
        },
        {
          "output_type": "display_data",
          "data": {
            "text/plain": [
              "<Figure size 432x288 with 1 Axes>"
            ],
            "image/png": "[encoded data removed]"
          },
          "metadata": {
            "needs_background": "light"
          }
        }
      ]
    }
  ]
}